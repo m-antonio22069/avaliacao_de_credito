{
  "nbformat": 4,
  "nbformat_minor": 0,
  "metadata": {
    "colab": {
      "name": "Avaliaca0_de_Credito.ipynb",
      "provenance": [],
      "authorship_tag": "ABX9TyMxyDFFpbBX4RAMVTbPelKt",
      "include_colab_link": true
    },
    "kernelspec": {
      "name": "python3",
      "display_name": "Python 3"
    }
  },
  "cells": [
    {
      "cell_type": "markdown",
      "metadata": {
        "id": "view-in-github",
        "colab_type": "text"
      },
      "source": [
        "<a href=\"https://colab.research.google.com/github/m-antonio22069/avaliacao_de_credito/blob/master/Avaliaca0_de_Credito.ipynb\" target=\"_parent\"><img src=\"https://colab.research.google.com/assets/colab-badge.svg\" alt=\"Open In Colab\"/></a>"
      ]
    },
    {
      "cell_type": "code",
      "metadata": {
        "id": "KIkmliqqCe4U",
        "colab_type": "code",
        "colab": {}
      },
      "source": [
        "import pandas as pd\n",
        "from sklearn.preprocessing import LabelEncoder\n",
        "import matplotlib.pyplot as plt\n",
        "import seaborn as sns\n",
        "plt.style.use('ggplot')\n",
        "from sklearn.model_selection import  train_test_split\n",
        "from sklearn.preprocessing import StandardScaler, MinMaxScaler\n",
        "from sklearn.naive_bayes import GaussianNB \n",
        "from sklearn.tree import DecisionTreeClassifier"
      ],
      "execution_count": 0,
      "outputs": []
    },
    {
      "cell_type": "code",
      "metadata": {
        "id": "bh6ZxI2aCnEL",
        "colab_type": "code",
        "colab": {}
      },
      "source": [
        "# Lendo Base de dados\n",
        "dataframe = pd.read_csv('Credit.csv')"
      ],
      "execution_count": 0,
      "outputs": []
    },
    {
      "cell_type": "code",
      "metadata": {
        "id": "nb6SRzZUCu9C",
        "colab_type": "code",
        "colab": {}
      },
      "source": [
        "dataframe.head()"
      ],
      "execution_count": 0,
      "outputs": []
    },
    {
      "cell_type": "code",
      "metadata": {
        "id": "avmu4Cr-DEAs",
        "colab_type": "code",
        "colab": {}
      },
      "source": [
        "# Tratando os dados\n",
        "\n",
        "lb = LabelEncoder()\n",
        "labels = ['checking_status','purpose', 'other_parties', 'property_magnitude',\n",
        "          'own_telephone','foreign_worker', 'housing','personal_status', 'job' ]\n",
        "for col in labels:\n",
        "  dataframe[col] = lb.fit_transform(dataframe[col])\n",
        "\n",
        "\n",
        "dataframe['credit_history'] = dataframe['credit_history'].map({\"'critical/other existing credit'\":0,\n",
        "                                                               \"'delayed previously'\":1,\n",
        "                                                               \"'existing paid'\":2,\n",
        "                                                               \"'no credits/all paid'\":3,\n",
        "                                                               \"'all paid'\":4})\n",
        "\n",
        "dataframe['savings_status'] = dataframe['savings_status'].map({\"'no known savings'\":0,\n",
        "                                                               '<100':1,\n",
        "                                                               '100<=X<500':2,\n",
        "                                                               '500<=X<1000':3,\n",
        "                                                               '>=1000':4})\n",
        "\n",
        "dataframe['employment'] = dataframe['employment'].map({'unemployed':0,\n",
        "                                                       '<1':1,\n",
        "                                                       '1<=X<4':2,\n",
        "                                                       '4<=X<7':3,\n",
        "                                                       '>=7':4})\n",
        "\n",
        "dataframe['other_payment_plans'] = dataframe['other_payment_plans'].map({'bank': 2, 'none': 0, 'stores': 1})\n",
        "\n",
        "dataframe['class'] = dataframe['class'].map({'good':1, 'bad':0})"
      ],
      "execution_count": 0,
      "outputs": []
    },
    {
      "cell_type": "code",
      "metadata": {
        "id": "yEI2V8ihTPOr",
        "colab_type": "code",
        "colab": {}
      },
      "source": [
        "# Verificando correlação \n",
        "correlacao = dataframe.corrwith(dataframe['class']).iloc[:-1].to_frame()\n",
        "correlacao['abs']=correlacao[0].abs()\n",
        "correlacao_ordenada = correlacao.sort_values('abs',ascending=False)[0]\n",
        "\n",
        "fig, ax = plt.subplots(figsize=(10,20))\n",
        "sns.heatmap(correlacao_ordenada.to_frame(),cmap='coolwarm',annot=True, \n",
        "            vmin=1, vmax=1, ax=ax);"
      ],
      "execution_count": 0,
      "outputs": []
    },
    {
      "cell_type": "code",
      "metadata": {
        "id": "k2PFvfLhUBG4",
        "colab_type": "code",
        "colab": {}
      },
      "source": [
        "# Removendo colunas com baixas correlações\n",
        "lista_chaves = list(correlacao_ordenada.keys())\n",
        "drop_corr = dict(correlacao_ordenada[lista_chaves.index('existing_credits'):])\n",
        "\n",
        "for i in drop_corr:\n",
        "    if i in dataframe.columns:\n",
        "        dataframe = dataframe.drop(columns=[i])"
      ],
      "execution_count": 0,
      "outputs": []
    },
    {
      "cell_type": "code",
      "metadata": {
        "id": "Mp4Tw3b0bUJ_",
        "colab_type": "code",
        "colab": {}
      },
      "source": [
        "variaveis = dataframe.iloc[:,:11]\n",
        "classe = dataframe.iloc[:,11]\n",
        "\n",
        "x_treino, x_teste, y_treino, y_teste = train_test_split(variaveis,\n",
        "                                                        classe,\n",
        "                                                        test_size=0.3,\n",
        "                                                        random_state=0)\n",
        "\n"
      ],
      "execution_count": 0,
      "outputs": []
    },
    {
      "cell_type": "code",
      "metadata": {
        "id": "88WTyVeocYVl",
        "colab_type": "code",
        "colab": {}
      },
      "source": [
        "# Criando piperlines para otimização dos testes\n",
        "\n",
        "from sklearn.pipeline import Pipeline\n",
        "\n",
        "pip_std_Gaussian = Pipeline([('scaler',StandardScaler()),\n",
        "                                 ('RandomForestRegressor', GaussianNB())])\n",
        "\n",
        "pip_min_max_Gaussian = Pipeline([('minmax',MinMaxScaler()),\n",
        "                                 ('RandomForestRegressor', GaussianNB())])\n",
        "\n",
        "\n",
        "pip_std_tree = Pipeline([('scaler',StandardScaler()),\n",
        "                         ('DecisionTree', DecisionTreeClassifier(criterion='gini'))])\n",
        "\n",
        "pip_min_max_tree = Pipeline([('minmax',MinMaxScaler()),\n",
        "                             ('DecisionTree', DecisionTreeClassifier(criterion='gini'))])"
      ],
      "execution_count": 0,
      "outputs": []
    },
    {
      "cell_type": "code",
      "metadata": {
        "id": "cO_lBU4vdQJn",
        "colab_type": "code",
        "colab": {
          "base_uri": "https://localhost:8080/",
          "height": 108
        },
        "outputId": "48ee0cdc-1152-43b4-ea0d-c7a98a49f84f"
      },
      "source": [
        "# treinando modelos e retirando seus scores\n",
        "pip_std_Gaussian.fit(x_treino,y_treino)\n",
        "\n",
        "pip_min_max_Gaussian.fit(x_treino,y_treino)"
      ],
      "execution_count": 171,
      "outputs": [
        {
          "output_type": "execute_result",
          "data": {
            "text/plain": [
              "Pipeline(memory=None,\n",
              "         steps=[('minmax', MinMaxScaler(copy=True, feature_range=(0, 1))),\n",
              "                ('RandomForestRegressor',\n",
              "                 GaussianNB(priors=None, var_smoothing=1e-09))],\n",
              "         verbose=False)"
            ]
          },
          "metadata": {
            "tags": []
          },
          "execution_count": 171
        }
      ]
    },
    {
      "cell_type": "code",
      "metadata": {
        "id": "dx75uqkId4tP",
        "colab_type": "code",
        "colab": {
          "base_uri": "https://localhost:8080/",
          "height": 54
        },
        "outputId": "e63fa619-4f13-4e73-a848-49e30b40031f"
      },
      "source": [
        "print(\"pip_std_Gaussian:\", pip_std_Gaussian.score(x_teste,y_teste))\n",
        "print(\"pip_min_max_Gaussian:\", pip_min_max_Gaussian.score(x_teste,y_teste))"
      ],
      "execution_count": 172,
      "outputs": [
        {
          "output_type": "stream",
          "text": [
            "pip_std_Gaussian: 0.7366666666666667\n",
            "pip_min_max_Gaussian: 0.7366666666666667\n"
          ],
          "name": "stdout"
        }
      ]
    },
    {
      "cell_type": "code",
      "metadata": {
        "id": "rUgRCdF-hMM1",
        "colab_type": "code",
        "colab": {
          "base_uri": "https://localhost:8080/",
          "height": 254
        },
        "outputId": "49a823a1-202f-429c-c1af-40ec8bba78f3"
      },
      "source": [
        "pip_std_tree.fit(x_treino,y_treino)\n",
        "\n",
        "pip_min_max_tree.fit(x_treino,y_treino)"
      ],
      "execution_count": 173,
      "outputs": [
        {
          "output_type": "execute_result",
          "data": {
            "text/plain": [
              "Pipeline(memory=None,\n",
              "         steps=[('minmax', MinMaxScaler(copy=True, feature_range=(0, 1))),\n",
              "                ('DecisionTree',\n",
              "                 DecisionTreeClassifier(ccp_alpha=0.0, class_weight=None,\n",
              "                                        criterion='gini', max_depth=None,\n",
              "                                        max_features=None, max_leaf_nodes=None,\n",
              "                                        min_impurity_decrease=0.0,\n",
              "                                        min_impurity_split=None,\n",
              "                                        min_samples_leaf=1, min_samples_split=2,\n",
              "                                        min_weight_fraction_leaf=0.0,\n",
              "                                        presort='deprecated', random_state=None,\n",
              "                                        splitter='best'))],\n",
              "         verbose=False)"
            ]
          },
          "metadata": {
            "tags": []
          },
          "execution_count": 173
        }
      ]
    },
    {
      "cell_type": "code",
      "metadata": {
        "id": "wyRi_nRUhlaL",
        "colab_type": "code",
        "colab": {
          "base_uri": "https://localhost:8080/",
          "height": 54
        },
        "outputId": "28ebb71a-497e-4ac5-b010-a03dffd6ad2b"
      },
      "source": [
        "print(\"pip_std_tree:\", pip_std_tree.score(x_teste,y_teste))\n",
        "print(\"pip_min_max_tree:\", pip_min_max_tree.score(x_teste,y_teste))"
      ],
      "execution_count": 174,
      "outputs": [
        {
          "output_type": "stream",
          "text": [
            "pip_std_tree: 0.6533333333333333\n",
            "pip_min_max_tree: 0.6666666666666666\n"
          ],
          "name": "stdout"
        }
      ]
    }
  ]
}